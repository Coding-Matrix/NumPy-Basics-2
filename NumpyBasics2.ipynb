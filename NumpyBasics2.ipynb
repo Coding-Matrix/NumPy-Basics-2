{
  "nbformat": 4,
  "nbformat_minor": 0,
  "metadata": {
    "colab": {
      "name": "NumpyBasics2.ipynb",
      "provenance": [],
      "collapsed_sections": [],
      "include_colab_link": true
    },
    "kernelspec": {
      "name": "python3",
      "display_name": "Python 3"
    }
  },
  "cells": [
    {
      "cell_type": "markdown",
      "metadata": {
        "id": "view-in-github",
        "colab_type": "text"
      },
      "source": [
        "<a href=\"https://colab.research.google.com/github/Coding-Matrix/NumPy-Basics-2/blob/master/NumpyBasics2.ipynb\" target=\"_parent\"><img src=\"https://colab.research.google.com/assets/colab-badge.svg\" alt=\"Open In Colab\"/></a>"
      ]
    },
    {
      "cell_type": "markdown",
      "metadata": {
        "id": "4cyGhqtJUePG",
        "colab_type": "text"
      },
      "source": [
        "# **Numpy Basics #2 Colab**\n"
      ]
    },
    {
      "cell_type": "markdown",
      "metadata": {
        "id": "B033wOXThJKw",
        "colab_type": "text"
      },
      "source": [
        "Created By Coding Matrix On Youtube. https://www.youtube.com/channel/UCKaajyjktvduM6mmuBtAOyg"
      ]
    },
    {
      "cell_type": "markdown",
      "metadata": {
        "id": "JQf7NZKmZj4J",
        "colab_type": "text"
      },
      "source": [
        "The first thing that we need to do before we start is to **import numpy**, and we will do import it as np. \n"
      ]
    },
    {
      "cell_type": "code",
      "metadata": {
        "id": "Lbsk4adPLeEY",
        "colab_type": "code",
        "colab": {}
      },
      "source": [
        "import numpy as np"
      ],
      "execution_count": 0,
      "outputs": []
    },
    {
      "cell_type": "markdown",
      "metadata": {
        "id": "Ot-BtcPpLbFm",
        "colab_type": "text"
      },
      "source": [
        "# Using the `np.arange` Function\n",
        "Using np.array to create arrays manually can cosume a lot of time since it was hardcoded. When you have many values in an array, Numpy provides a very useful function which acts in a very similar way as the range function in python. `np.arange` will return an array of evenly spaced values within a given interval. The code below shows how to use this function. "
      ]
    },
    {
      "cell_type": "code",
      "metadata": {
        "id": "IJpo8_MBMP--",
        "colab_type": "code",
        "outputId": "6e0b68e9-1ef8-4a48-a0e9-1b66ef20d464",
        "colab": {
          "base_uri": "https://localhost:8080/",
          "height": 34
        }
      },
      "source": [
        "scalararray = np.arange(7)\n",
        "print(repr(scalararray))"
      ],
      "execution_count": 0,
      "outputs": [
        {
          "output_type": "stream",
          "text": [
            "array([0., 1., 2., 3., 4., 5., 6., 7.])\n"
          ],
          "name": "stdout"
        }
      ]
    },
    {
      "cell_type": "markdown",
      "metadata": {
        "id": "zyvHYaXGLkPm",
        "colab_type": "text"
      },
      "source": [
        "In the example we use a scalar. A scalar is single value such as integer, float, etc. To read more about this head over to https://docs.scipy.org/doc/numpy-1.13.0/reference/arrays.scalars.html. When one argument is passed or a scalar value is passed, `np.arange` will return evenly spaced values from the default value of 0 and all the way **UP T0** the number specified but not including it, meaning the lower end is inclusive while the upper end is not."
      ]
    },
    {
      "cell_type": "code",
      "metadata": {
        "id": "-i0I2C7tLmWE",
        "colab_type": "code",
        "outputId": "67fdedd0-b267-4a81-ac50-f183082f251c",
        "colab": {
          "base_uri": "https://localhost:8080/",
          "height": 34
        }
      },
      "source": [
        "array2 = np.arange(1, 5, dtype=float )\n",
        "print(repr(array2))"
      ],
      "execution_count": 0,
      "outputs": [
        {
          "output_type": "stream",
          "text": [
            "array([1., 2., 3., 4.])\n"
          ],
          "name": "stdout"
        }
      ]
    },
    {
      "cell_type": "markdown",
      "metadata": {
        "id": "H6yFnhuqLoh8",
        "colab_type": "text"
      },
      "source": [
        "The code shows that the `np.arange` function allows for manual casting using the `dtype` keyword argument. When two argument are passed the first argument is the start of the range and the second argument is the stop of the the function. Again, the lower end is inclusive while the upper end is exclusive."
      ]
    },
    {
      "cell_type": "code",
      "metadata": {
        "id": "UCquaDkwLshS",
        "colab_type": "code",
        "outputId": "8a35c396-90af-4c6d-81c5-da236ead04ed",
        "colab": {
          "base_uri": "https://localhost:8080/",
          "height": 34
        }
      },
      "source": [
        "array3 = np.arange(start=1, stop=6, step=2)\n",
        "print(array3)"
      ],
      "execution_count": 0,
      "outputs": [
        {
          "output_type": "stream",
          "text": [
            "[1 3 5]\n"
          ],
          "name": "stdout"
        }
      ]
    },
    {
      "cell_type": "markdown",
      "metadata": {
        "id": "uLQz6R-dLtOf",
        "colab_type": "text"
      },
      "source": [
        "When three arguments are passed, the first argument is the start of the range, the second argument is the stop of the range while the third argument is the step of the range. Like Python's range function the step refers to amount you go up by or the spacing between the start and the stop values. If the step is not specified, the default step is one."
      ]
    },
    {
      "cell_type": "markdown",
      "metadata": {
        "id": "Zuvf4j_ELxKy",
        "colab_type": "text"
      },
      "source": [
        "The code above shows the use of np.arange. Notice how the output of the arrays is always a 1-D array. "
      ]
    },
    {
      "cell_type": "markdown",
      "metadata": {
        "id": "TOSQOkDIL1HB",
        "colab_type": "text"
      },
      "source": [
        "# Using the `np.linspace` Function\n",
        "\n",
        "`np.linspace` is very similar to `np.arange` but is used when you want to specify the number of elements in the returned array rather than step size. The `np.linspace`function will create evenly spaced sequences of numbers in a format of a Numpy array. The function takes two required arguments which are the start and the end of the range. Check out the code below to get a deeper understanding of the code.\n"
      ]
    },
    {
      "cell_type": "code",
      "metadata": {
        "id": "NqD4q21bMGPY",
        "colab_type": "code",
        "colab": {}
      },
      "source": [
        "linspacearr = np.linspace(1,10)\n",
        "print(repr(linspacearr))"
      ],
      "execution_count": 0,
      "outputs": []
    },
    {
      "cell_type": "markdown",
      "metadata": {
        "id": "PnVNB9jVPh2Z",
        "colab_type": "text"
      },
      "source": [
        "This is probably not what you were expecting. There are two things to note here. \n",
        "\n",
        "1: The end of the range is INCLUSIVE in `np.linspace` while in `np.arange` it is not. This is only true if the keyword argument `endpoint` is not set to `endpoint=False`\n",
        "\n",
        "2: `np.linspace` creates evenly spaced sequences of numbers between two numbers. If we want to specify the number of elements, we use the `num` keyword argument. In the example we did not use the `num` keyword so the default 50 evenly spaced values were outputted in a 1-D array.\n",
        "\n",
        "Another thing to note is that np.linspace allows for manual casting using the `dtype` keyword argument. \n",
        "\n",
        "Let's Check this out in the code below:"
      ]
    },
    {
      "cell_type": "code",
      "metadata": {
        "id": "ZO-jJIsQb1YO",
        "colab_type": "code",
        "colab": {}
      },
      "source": [
        "endpointarr = np.linspace(1, 10, endpoint=False)\n",
        "print(repr(endpointarr))"
      ],
      "execution_count": 0,
      "outputs": []
    },
    {
      "cell_type": "markdown",
      "metadata": {
        "id": "YdXFBXRDILHk",
        "colab_type": "text"
      },
      "source": [
        "As you can see when the `endpoint=False` the end of the range is **Exclusive**.\n",
        "\n",
        "---\n",
        "\n",
        "\n",
        "\n"
      ]
    },
    {
      "cell_type": "code",
      "metadata": {
        "id": "oq2Fq1MOEr4n",
        "colab_type": "code",
        "colab": {}
      },
      "source": [
        "spacedarr = np.linspace(1, 10, num=5)\n",
        "print(repr(spacedarr))"
      ],
      "execution_count": 0,
      "outputs": []
    },
    {
      "cell_type": "markdown",
      "metadata": {
        "id": "RucU6Jz0KPEB",
        "colab_type": "text"
      },
      "source": [
        "In the example, `spacedarr` only outputs **5** evenly spaced values because the `num` keyword is set to 5."
      ]
    },
    {
      "cell_type": "code",
      "metadata": {
        "id": "YxClXUYeKmR4",
        "colab_type": "code",
        "colab": {}
      },
      "source": [
        "castedarr = np.linspace(1, 10, num=5, dtype=int)\n",
        "print(repr(castedarr))"
      ],
      "execution_count": 0,
      "outputs": []
    },
    {
      "cell_type": "markdown",
      "metadata": {
        "id": "lOW_W00TMiFa",
        "colab_type": "text"
      },
      "source": [
        "When we perform manual casting, it can sometimes skew the data in the way that the numbers are not evenly spaced. In the example above, we use the `dtype` keyword argument to manually cast the output array to an `int` whereas before would automatically switch to the data type needed to be evenly spaced.\n"
      ]
    },
    {
      "cell_type": "markdown",
      "metadata": {
        "id": "ZfmgbN6cUfuB",
        "colab_type": "text"
      },
      "source": [
        "# Using `.ndim` Property and `.shape` Property\n"
      ]
    },
    {
      "cell_type": "markdown",
      "metadata": {
        "id": "CBhiYVFdUryJ",
        "colab_type": "text"
      },
      "source": [
        "The shape of an array is the number of elements in each dimension and the shape property returns a **tuple** of array dimensions. Let's walk through array shapes in depths going from simple 1D arrays to more complicated 2D and 3D arrays.\n"
      ]
    },
    {
      "cell_type": "code",
      "metadata": {
        "id": "IZm2qoJLVOtx",
        "colab_type": "code",
        "colab": {}
      },
      "source": [
        "oned = np.array([1, 2, 3])\n",
        "print(repr(oned.ndim))\n",
        "print(repr(oned.shape))"
      ],
      "execution_count": 0,
      "outputs": []
    },
    {
      "cell_type": "markdown",
      "metadata": {
        "id": "mNY6xhLVU3m7",
        "colab_type": "text"
      },
      "source": [
        "Let’s start with this 1-D array and the dimensions of a 1-dimensional array can just be described as the number of elements in the 1-Dimensional array. In the example, We have a 1-dimensional array from values 1 to 5 inclusive and the shape for this array would just be 5 because there is only one dimension and the shape of an array is the number of elements in each dimension. The `.ndim` property will return the number of dimensions of the array and the `.shape `property will return a tuple of array dimensions. \n"
      ]
    },
    {
      "cell_type": "markdown",
      "metadata": {
        "id": "maQM2GwmWNAr",
        "colab_type": "text"
      },
      "source": [
        "When we run the code cell and for the `.shape` property generates a one-element tuple with a comma beside it. When generating a one-element tuple, if you write only one object in parentheses (), the parentheses () are ignored and not considered a tuple. The reason why you need a comma , for a single tuple is that \"tuple is an object delimited by comma ,\", not \"an object enclosed in parentheses ()\"\n"
      ]
    },
    {
      "cell_type": "code",
      "metadata": {
        "id": "PQL_qlpmWMva",
        "colab_type": "code",
        "colab": {}
      },
      "source": [
        "twod = np.array([[1, 2 ,3], \n",
        "                 [1, 2, 3]])\n",
        "print(repr(twod.ndim))\n",
        "print(repr(twod.shape))"
      ],
      "execution_count": 0,
      "outputs": []
    },
    {
      "cell_type": "markdown",
      "metadata": {
        "id": "baVzV5jQWtj2",
        "colab_type": "text"
      },
      "source": [
        "For a 2-dimensional array, the dimensions are described as by the number of rows by the number of columns. In our example the dimensions of the array are 3 by 3. The shape of this array would be described as 3 rows and 3 columns. The shape of the array is going to be a the tuple (3,3) where the first number is the rows and the second number is columns.\n"
      ]
    },
    {
      "cell_type": "code",
      "metadata": {
        "id": "wUuaauhtXGEW",
        "colab_type": "code",
        "colab": {}
      },
      "source": [
        "threed = np.array([[[1, 2, 3], \n",
        "                    [1, 2, 3]], \n",
        "                   \n",
        "                   [[1, 2, 3], \n",
        "                    [1, 2, 3]]])\n",
        "print(repr(threed.ndim))\n",
        "print(repr(threed.shape))"
      ],
      "execution_count": 0,
      "outputs": []
    },
    {
      "cell_type": "markdown",
      "metadata": {
        "id": "Mf9lzzWnXIny",
        "colab_type": "text"
      },
      "source": [
        "For a 3-dimensional array, an array that has 2-D arrays as its elements or 3 nested levels of arrays, one for each dimension. The dimensions are described as by the layers/depth, and the number of rows and columns in each layer or depth. In our example, the shape of this array is 2 layers, 2 rows, and 3 columns and the dimensions of this array is 2 by 3 by 3. The `shape` property will return the tuples (2, 3, 3), where the first number is the layers, the second number is the rows, the third number is the Columns. Note that the rows and columns in each layer have to be the same.\n"
      ]
    },
    {
      "cell_type": "markdown",
      "metadata": {
        "id": "vSkQwl0IZnx7",
        "colab_type": "text"
      },
      "source": [
        "# Using the `np.reshape` Function to Reshape Data"
      ]
    },
    {
      "cell_type": "markdown",
      "metadata": {
        "id": "aGS0Inp2Zt4Y",
        "colab_type": "text"
      },
      "source": [
        "Reshaping Data is just as the name implies changing the shape of an array to a new one. The function we use to do so is the np.reshape function which take two required arguments which an array and the new dimensions of the array. "
      ]
    },
    {
      "cell_type": "code",
      "metadata": {
        "id": "Vt7bvbJvZ6lD",
        "colab_type": "code",
        "colab": {}
      },
      "source": [
        "unshaped = np.arange(8)\n",
        "print(repr(unshaped))"
      ],
      "execution_count": 0,
      "outputs": []
    },
    {
      "cell_type": "markdown",
      "metadata": {
        "id": "CoMz-JzZZ7iz",
        "colab_type": "text"
      },
      "source": [
        "The code above will return a 1-D array from value 1 to 8 but not inclusing 8."
      ]
    },
    {
      "cell_type": "code",
      "metadata": {
        "id": "NRGwK6AgaECq",
        "colab_type": "code",
        "colab": {}
      },
      "source": [
        "reshaped = np.reshape(unshaped, (4, 2))\n",
        "print(repr(reshaped))"
      ],
      "execution_count": 0,
      "outputs": []
    },
    {
      "cell_type": "markdown",
      "metadata": {
        "id": "AKjfBT0OaG1Q",
        "colab_type": "text"
      },
      "source": [
        "In the code above, we use the `np.reshape` function to reshape the array `unshaped` to a 2-D array that has 4 rows and 2 columns. Note that the new shape must exactly contain all the elements from the input array. The product of the dimensions have to be equal to the amount of the elements in the array we wish to reshape. For example, the array `unshaped` has 8 elements and the dimensions we wish to reshape it to (4, 2). 4 x 2 = 8. \n",
        "\n",
        "\n"
      ]
    },
    {
      "cell_type": "code",
      "metadata": {
        "id": "MBJ0-LneNPHS",
        "colab_type": "code",
        "colab": {}
      },
      "source": [
        "unshaped2 = np.array([[1, 2, 3], [1, 2, 3]])\n",
        "print(repr(unshaped2))"
      ],
      "execution_count": 0,
      "outputs": []
    },
    {
      "cell_type": "markdown",
      "metadata": {
        "id": "xNiqoFtzNUlm",
        "colab_type": "text"
      },
      "source": [
        "The code above is a 2-D array that was created using the np.array function. The dimensions of this 2-D array is 2 rows by 3 columns. "
      ]
    },
    {
      "cell_type": "code",
      "metadata": {
        "id": "39Qr8-rqNv3m",
        "colab_type": "code",
        "colab": {}
      },
      "source": [
        "reshaped2 = np.reshape(unshaped2, (1, 2, -1))\n",
        "print(repr(reshaped2))\n",
        "print(repr(reshaped2.shape))"
      ],
      "execution_count": 0,
      "outputs": []
    },
    {
      "cell_type": "markdown",
      "metadata": {
        "id": "kZV0N-JbNwhJ",
        "colab_type": "text"
      },
      "source": [
        "In the code above, we use the reshape function to reshape the array, `unshaped2. Notice we want to reshape it to a 3-D array but we have a -1 as one of it's dimensions. We are allowed to use the special value of -1 in at most one dimension of the new shape. The dimension with -1 will take on the value necessary to allow the new shape to contain all the elements of the array. The new shape will be whatever value is neccessary to contain all the elemnets in the array. "
      ]
    },
    {
      "cell_type": "markdown",
      "metadata": {
        "id": "D7RjHkGhP1zc",
        "colab_type": "text"
      },
      "source": [
        "# Using the np.flatten Function"
      ]
    },
    {
      "cell_type": "markdown",
      "metadata": {
        "id": "m-YuDm6CP95o",
        "colab_type": "text"
      },
      "source": [
        "We can flatten an array using the np.flatten function. While the np.reshape function can perform any reshaping utilities we need, falttening data is done very often so NumPy has Provided it for us. Flattening an array reshapes it into a 1D array."
      ]
    },
    {
      "cell_type": "code",
      "metadata": {
        "id": "gLBqKNK_QpCz",
        "colab_type": "code",
        "colab": {}
      },
      "source": [
        "print(repr(unshaped2.flatten()))\n",
        "print(repr(unshaped2))"
      ],
      "execution_count": 0,
      "outputs": []
    },
    {
      "cell_type": "markdown",
      "metadata": {
        "id": "Qc9fa8MiQsxY",
        "colab_type": "text"
      },
      "source": [
        "We used the previous array we used, unshaped2 which was a 2-D array and the output of the code will be a 1-D array. Weput the name of the array followed by `.flatten()` to flatten any array we wish to. "
      ]
    },
    {
      "cell_type": "markdown",
      "metadata": {
        "id": "teAKUdVMRcjb",
        "colab_type": "text"
      },
      "source": [
        "# Using the np.transpose Function. "
      ]
    },
    {
      "cell_type": "markdown",
      "metadata": {
        "id": "wf28I3C-RrSH",
        "colab_type": "text"
      },
      "source": [
        "We can also transpose our data which means it causes (two or more things) to change places with each other and in our case it is arrays. The function takes in a required argument, which will be the array we want to transpose. "
      ]
    },
    {
      "cell_type": "code",
      "metadata": {
        "id": "j6U_djMfSyCx",
        "colab_type": "code",
        "colab": {}
      },
      "source": [
        "newarray = np.arange(6).reshape((2,3))\n",
        "print(repr(newarray))\n",
        "print(repr(newarray.shape))"
      ],
      "execution_count": 0,
      "outputs": []
    },
    {
      "cell_type": "markdown",
      "metadata": {
        "id": "N2pR8o7lSy_U",
        "colab_type": "text"
      },
      "source": [
        "We created a 1-D array using the np.arange function and the we reshaped the data using the reshape function and instead of creating and instead of creating a new varibale and adding the two required arguments, the input array and the dimensions, when we create an array we use the function like `.reshape()` and input the dimensions we want to array to be reshaped to. "
      ]
    },
    {
      "cell_type": "code",
      "metadata": {
        "id": "z3XXFWjzUcNb",
        "colab_type": "code",
        "colab": {}
      },
      "source": [
        "transposed = np.transpose(newarray)\n",
        "print(repr(transposed))\n",
        "print(repr(transposed.shape))"
      ],
      "execution_count": 0,
      "outputs": []
    },
    {
      "cell_type": "markdown",
      "metadata": {
        "id": "WxCpyXMNUf6H",
        "colab_type": "text"
      },
      "source": [
        "In the code above, we transposed the data which means we switch the dimensions for the input array. For a 2-D array the number of rows will become the number of columns and the number of columns will we the number of rows. The shape of `newarray` is (2, 3) but when we transpose it the shape of the array becomes (3, 2)"
      ]
    },
    {
      "cell_type": "markdown",
      "metadata": {
        "id": "orXm6wz5WINF",
        "colab_type": "text"
      },
      "source": [
        "It also has a single keyword argument called axes, which represents the new permutation of the dimensions. The permutation is a tuple/list of integers, with the same length as the number of dimensions in the array. It tells us where to switch up the dimensions. The axes keyword is very similar to the dimesnions of an array. For example, for a 2-d array axis=0 is the rows, axis=1 is equal to the columns and for a 3-d array axis=0 is the layers, axis=1 is the rows and axis=3 is the columns. For this lesson that is all you need to know. Later on in the course we will take a deeper look at axes of an array. Take a look at the code below for better understanding.\n"
      ]
    },
    {
      "cell_type": "code",
      "metadata": {
        "id": "asEUYCIjWPmR",
        "colab_type": "code",
        "colab": {}
      },
      "source": [
        "permutation = np.arange(24).reshape(3, 2, 4)\n",
        "print(repr(permutation))\n",
        "print(repr(permutation.shape))"
      ],
      "execution_count": 0,
      "outputs": []
    },
    {
      "cell_type": "markdown",
      "metadata": {
        "id": "vAWlYbcoWRpY",
        "colab_type": "text"
      },
      "source": [
        "We created a 1-D array and reshaped it to a 3-D array with 3 layers, 2 rows and 3 columns. "
      ]
    },
    {
      "cell_type": "code",
      "metadata": {
        "id": "9OXnFl64Wcry",
        "colab_type": "code",
        "colab": {}
      },
      "source": [
        "axes = np.transpose(permutation, axes=(2,1,0))\n",
        "print(repr(axes))\n",
        "print(repr(axes.shape))"
      ],
      "execution_count": 0,
      "outputs": []
    },
    {
      "cell_type": "markdown",
      "metadata": {
        "id": "aSXLnZSGWe5O",
        "colab_type": "text"
      },
      "source": [
        "We transpose the array `permutation` and change it's permutation meaning it's arrangment using the `axes` keyword argument. For a 3-D array, `axes` 2 means the columns, so the number of columns in the inputted array becomes the layers, axes 1 means the rows so the rows, so the number of rows in the inputted array becomes the rows and `axes` 0 means the layers, so the number of layers in the outputted array become the columns. The shape of the inputted array, permutation is (3, 2, 4) and the shape of the transposed array is (4, 2, 3)."
      ]
    },
    {
      "cell_type": "markdown",
      "metadata": {
        "id": "XhNsEZbEYBVx",
        "colab_type": "text"
      },
      "source": [
        "# Using the `np.zeros` and `np.ones` Function"
      ]
    },
    {
      "cell_type": "markdown",
      "metadata": {
        "id": "1VAzHznjYMLq",
        "colab_type": "text"
      },
      "source": [
        "Sometimes, we need to create arrays filled solely with 0 or 1. For creating these arrays, NumPy provides the functions `np.zeros` and `np.ones`. They both take one required argument which is the array shape. The functions also allow for manual casting using the dtype keyword argument."
      ]
    },
    {
      "cell_type": "code",
      "metadata": {
        "id": "UsIorHsSeK-E",
        "colab_type": "code",
        "colab": {}
      },
      "source": [
        "zeros = np.zeros((4, 2), dtype=int)\n",
        "print(repr(zeros))"
      ],
      "execution_count": 0,
      "outputs": []
    },
    {
      "cell_type": "markdown",
      "metadata": {
        "id": "29FM-PdTeO6c",
        "colab_type": "text"
      },
      "source": [
        "A 2-D array with all zeroes and 4 rows and 2 columns has been created using the `np.zeros` function. Using the `dtype` keyword argument, we manually cast the array to all integers. "
      ]
    },
    {
      "cell_type": "code",
      "metadata": {
        "id": "lqQxnd7CeoYk",
        "colab_type": "code",
        "colab": {}
      },
      "source": [
        "ones = np.ones((1, 2, 3))\n",
        "print(repr(ones))"
      ],
      "execution_count": 0,
      "outputs": []
    },
    {
      "cell_type": "markdown",
      "metadata": {
        "id": "sTmaUXkeeudg",
        "colab_type": "text"
      },
      "source": [
        "A 3-D array with all ones and 1 layer, 2 rows and 3 columns has been created using the `np.ones` function. The outut will be all floats since we have not specified the data type of the array. "
      ]
    },
    {
      "cell_type": "markdown",
      "metadata": {
        "id": "RVP0d_HVfBKc",
        "colab_type": "text"
      },
      "source": [
        "If we want to create an array of 0's or 1's with the same shape as another array, we can use functions `np.zeros_like` and `np.ones_like`."
      ]
    },
    {
      "cell_type": "code",
      "metadata": {
        "id": "l9-yZUtnfllg",
        "colab_type": "code",
        "colab": {}
      },
      "source": [
        "newarr = np.arange(8)\n",
        "print(repr(newarr))"
      ],
      "execution_count": 0,
      "outputs": []
    },
    {
      "cell_type": "markdown",
      "metadata": {
        "id": "4_R2M69cfniR",
        "colab_type": "text"
      },
      "source": [
        "We created a 1-D array using the np.arange function and the values returns an array from values 1 to 8 but not including 8. "
      ]
    },
    {
      "cell_type": "code",
      "metadata": {
        "id": "izid7HO9f6ck",
        "colab_type": "code",
        "colab": {}
      },
      "source": [
        "zeros2 = np.zeros_like(newarr)\n",
        "print(repr(zeros2))"
      ],
      "execution_count": 0,
      "outputs": []
    },
    {
      "cell_type": "markdown",
      "metadata": {
        "id": "uRRQud6mgC34",
        "colab_type": "text"
      },
      "source": [
        "The np.zeros_like will output an array of zeros with the same shape as `newarr` which has a shape of (8,) becasue this is the array we inputted as the argument for the function."
      ]
    },
    {
      "cell_type": "code",
      "metadata": {
        "id": "w1Cmszo7gW6S",
        "colab_type": "code",
        "colab": {}
      },
      "source": [
        "newarr2 = np.arange(24).reshape(6,4)\n",
        "print(repr(newarr2))"
      ],
      "execution_count": 0,
      "outputs": []
    },
    {
      "cell_type": "markdown",
      "metadata": {
        "id": "jBuB8VnsgYlk",
        "colab_type": "text"
      },
      "source": [
        "We created a 1-D array from 0 to 24 but not including 24 and we reshaped the array to be a 2-D array with 6 rows and 4 columns. "
      ]
    },
    {
      "cell_type": "code",
      "metadata": {
        "id": "wzegvO0Tgs2N",
        "colab_type": "code",
        "colab": {}
      },
      "source": [
        "ones2 = np.ones_like(newarr2)\n",
        "print(repr(ones2))"
      ],
      "execution_count": 0,
      "outputs": []
    },
    {
      "cell_type": "markdown",
      "metadata": {
        "id": "0Kri3qMOgxfN",
        "colab_type": "text"
      },
      "source": [
        "The np.ones_like will output an array of ones with the same shape as `newarr2` which has a shape of (6,4) becasue this is the array we inputted as the argument for the function."
      ]
    }
  ]
}